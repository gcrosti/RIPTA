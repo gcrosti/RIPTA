{
 "cells": [
  {
   "cell_type": "code",
   "execution_count": 2,
   "metadata": {},
   "outputs": [],
   "source": [
    "import sqlite3\n",
    "from pathlib import Path\n",
    "import pandas as pd\n",
    "import requests\n",
    "import os"
   ]
  },
  {
   "cell_type": "code",
   "execution_count": 2,
   "metadata": {},
   "outputs": [],
   "source": [
    "SCHEMA = '''\n",
    "drop table if exists trip_updates_temp;\n",
    "create table trip_updates_temp (\n",
    "  id integer primary key autoincrement,\n",
    "  update_timestamp DATETIME not null,\n",
    "  timestamp DATETIME not null,\n",
    "  trip_id int not null,\n",
    "  stop_id int not null,\n",
    "  delay int not null\n",
    ");\n",
    "\n",
    "drop table if exists trip_updates;\n",
    "create table trip_updates (\n",
    "  id integer primary key autoincrement,\n",
    "  update_timestamp DATETIME not null,\n",
    "  timestamp DATETIME not null,\n",
    "  trip_id int not null,\n",
    "  stop_id int not null,\n",
    "  delay int not null\n",
    ");\n",
    "\n",
    "drop table if exists vehicle_positions_temp;\n",
    "create table vehicle_positions_temp (\n",
    "  id integer primary key autoincrement,\n",
    "  update_timestamp int not null,\n",
    "  trip_id int not null,\n",
    "  route_id int not null,\n",
    "  trip_start_time int not null,\n",
    "  trip_start_date datetime not null,\n",
    "  position_lat int not null,\n",
    "  position_lon int not null,\n",
    "  bearing int not null,\n",
    "  speed int not null,\n",
    "  current_status str not null,\n",
    "  stop_id int not null,\n",
    "  timestamp datetime not null,\n",
    "  vehicle_id int not null\n",
    ");\n",
    "\n",
    "drop table if exists vehicle_positions;\n",
    "create table vehicle_positions (\n",
    "  id integer primary key autoincrement,\n",
    "  update_timestamp int not null,\n",
    "  trip_id int not null,\n",
    "  route_id int not null,\n",
    "  trip_start_time int not null,\n",
    "  trip_start_date datetime not null,\n",
    "  position_lat int not null,\n",
    "  position_lon int not null,\n",
    "  bearing int not null,\n",
    "  speed int not null,\n",
    "  current_status str not null,\n",
    "  stop_id int not null,\n",
    "  timestamp datetime not null,\n",
    "  vehicle_id int not null\n",
    ");\n",
    "'''"
   ]
  },
  {
   "cell_type": "markdown",
   "metadata": {},
   "source": [
    "### Prune DB (execute ONLY first time)"
   ]
  },
  {
   "cell_type": "code",
   "execution_count": 3,
   "metadata": {},
   "outputs": [],
   "source": [
    "conn = sqlite3.connect('RIPTA.db')"
   ]
  },
  {
   "cell_type": "code",
   "execution_count": 4,
   "metadata": {},
   "outputs": [
    {
     "data": {
      "text/plain": [
       "<sqlite3.Cursor at 0x7feda4fc8c70>"
      ]
     },
     "execution_count": 4,
     "metadata": {},
     "output_type": "execute_result"
    }
   ],
   "source": [
    "conn.executescript(SCHEMA)"
   ]
  },
  {
   "cell_type": "code",
   "execution_count": 5,
   "metadata": {},
   "outputs": [],
   "source": [
    "conn.commit()"
   ]
  },
  {
   "cell_type": "code",
   "execution_count": 6,
   "metadata": {},
   "outputs": [],
   "source": [
    "conn.close()"
   ]
  },
  {
   "cell_type": "markdown",
   "metadata": {},
   "source": [
    "### Clean temporary DB files"
   ]
  },
  {
   "cell_type": "code",
   "execution_count": 131,
   "metadata": {},
   "outputs": [],
   "source": [
    "SCHEMA = '''\n",
    "drop table if exists trip_updates_temp;\n",
    "create table trip_updates_temp (\n",
    "  id integer primary key autoincrement,\n",
    "  update_timestamp DATETIME not null,\n",
    "  timestamp DATETIME not null,\n",
    "  trip_id int not null,\n",
    "  stop_id int not null,\n",
    "  delay int not null\n",
    ");\n",
    "\n",
    "drop table if exists vehicle_positions_temp;\n",
    "create table vehicle_positions_temp (\n",
    "  id integer primary key autoincrement,\n",
    "  update_timestamp int not null,\n",
    "  trip_id int not null,\n",
    "  route_id int not null,\n",
    "  start_time int not null,\n",
    "  start_date datetime not null,\n",
    "  position_lat int not null,\n",
    "  position_lon int not null,\n",
    "  bearing int not null,\n",
    "  speed int not null,\n",
    "  current_status str not null,\n",
    "  stop_id int not null,\n",
    "  timestamp datetime not null,\n",
    "  vehicle_id int not null\n",
    ");\n",
    "'''"
   ]
  },
  {
   "cell_type": "code",
   "execution_count": 132,
   "metadata": {},
   "outputs": [],
   "source": [
    "conn = sqlite3.connect('RIPTA.db')"
   ]
  },
  {
   "cell_type": "code",
   "execution_count": 133,
   "metadata": {},
   "outputs": [
    {
     "data": {
      "text/plain": [
       "<sqlite3.Cursor at 0x7fac7bf94180>"
      ]
     },
     "execution_count": 133,
     "metadata": {},
     "output_type": "execute_result"
    }
   ],
   "source": [
    "conn.executescript(SCHEMA)"
   ]
  },
  {
   "cell_type": "code",
   "execution_count": 134,
   "metadata": {},
   "outputs": [],
   "source": [
    "conn.commit()"
   ]
  },
  {
   "cell_type": "code",
   "execution_count": 135,
   "metadata": {},
   "outputs": [],
   "source": [
    "conn.close()"
   ]
  },
  {
   "cell_type": "markdown",
   "metadata": {},
   "source": [
    "### Pull Data"
   ]
  },
  {
   "cell_type": "code",
   "execution_count": 136,
   "metadata": {},
   "outputs": [],
   "source": [
    "tripupdates_df = pd.DataFrame()\n",
    "r = requests.get('http://realtime.ripta.com:81/api/tripupdates?format=json')\n",
    "outl = []\n",
    "for feedentity in r.json()['entity']:\n",
    "    if feedentity['trip_update']['stop_time_update'] != None:\n",
    "        for stoptimeupdate in feedentity['trip_update']['stop_time_update']: \n",
    "            if stoptimeupdate['arrival'] != None:\n",
    "                if stoptimeupdate['arrival']['delay'] != 0:\n",
    "                    outdict = {}\n",
    "                    outdict['timestamp'] = feedentity['trip_update']['timestamp']\n",
    "                    outdict['trip_id'] = feedentity['trip_update']['trip']['trip_id']\n",
    "                    outdict['stop_id'] = stoptimeupdate['stop_id']\n",
    "                    outdict['delay'] = stoptimeupdate['arrival']['delay']\n",
    "                    outdict['update_timestamp'] = r.json()['header']['timestamp']\n",
    "                    outl.append(outdict)\n",
    "for key in outl[0].keys():\n",
    "    tripupdates_df[key] = [d[key] for d in outl]"
   ]
  },
  {
   "cell_type": "code",
   "execution_count": 111,
   "metadata": {},
   "outputs": [
    {
     "data": {
      "text/html": [
       "<div>\n",
       "<style scoped>\n",
       "    .dataframe tbody tr th:only-of-type {\n",
       "        vertical-align: middle;\n",
       "    }\n",
       "\n",
       "    .dataframe tbody tr th {\n",
       "        vertical-align: top;\n",
       "    }\n",
       "\n",
       "    .dataframe thead th {\n",
       "        text-align: right;\n",
       "    }\n",
       "</style>\n",
       "<table border=\"1\" class=\"dataframe\">\n",
       "  <thead>\n",
       "    <tr style=\"text-align: right;\">\n",
       "      <th></th>\n",
       "      <th>timestamp</th>\n",
       "      <th>trip_id</th>\n",
       "      <th>stop_id</th>\n",
       "      <th>delay</th>\n",
       "      <th>update_timestamp</th>\n",
       "    </tr>\n",
       "  </thead>\n",
       "  <tbody>\n",
       "    <tr>\n",
       "      <th>0</th>\n",
       "      <td>1564421571</td>\n",
       "      <td>2854250</td>\n",
       "      <td>1915</td>\n",
       "      <td>300</td>\n",
       "      <td>1564421583</td>\n",
       "    </tr>\n",
       "    <tr>\n",
       "      <th>1</th>\n",
       "      <td>1564421571</td>\n",
       "      <td>2854250</td>\n",
       "      <td>1976</td>\n",
       "      <td>300</td>\n",
       "      <td>1564421583</td>\n",
       "    </tr>\n",
       "    <tr>\n",
       "      <th>2</th>\n",
       "      <td>1564421571</td>\n",
       "      <td>2854250</td>\n",
       "      <td>2060</td>\n",
       "      <td>300</td>\n",
       "      <td>1564421583</td>\n",
       "    </tr>\n",
       "    <tr>\n",
       "      <th>3</th>\n",
       "      <td>1564421571</td>\n",
       "      <td>2854250</td>\n",
       "      <td>56765</td>\n",
       "      <td>300</td>\n",
       "      <td>1564421583</td>\n",
       "    </tr>\n",
       "    <tr>\n",
       "      <th>4</th>\n",
       "      <td>1564421571</td>\n",
       "      <td>2854250</td>\n",
       "      <td>2010</td>\n",
       "      <td>300</td>\n",
       "      <td>1564421583</td>\n",
       "    </tr>\n",
       "  </tbody>\n",
       "</table>\n",
       "</div>"
      ],
      "text/plain": [
       "    timestamp  trip_id stop_id  delay  update_timestamp\n",
       "0  1564421571  2854250    1915    300        1564421583\n",
       "1  1564421571  2854250    1976    300        1564421583\n",
       "2  1564421571  2854250    2060    300        1564421583\n",
       "3  1564421571  2854250   56765    300        1564421583\n",
       "4  1564421571  2854250    2010    300        1564421583"
      ]
     },
     "execution_count": 111,
     "metadata": {},
     "output_type": "execute_result"
    }
   ],
   "source": [
    "tripupdates_df.head()"
   ]
  },
  {
   "cell_type": "code",
   "execution_count": 137,
   "metadata": {},
   "outputs": [],
   "source": [
    "r = requests.get('http://realtime.ripta.com:81/api/vehiclepositions?format=json')\n",
    "outl = []\n",
    "vehiclepos_df = pd.DataFrame()\n",
    "for feedentity in r.json()['entity']:\n",
    "    outdict = {}\n",
    "    outdict['update_timestamp'] = r.json()['header']['timestamp']\n",
    "    outdict['trip_id'] = feedentity['vehicle']['trip']['trip_id']\n",
    "    outdict['route_id'] = feedentity['vehicle']['trip']['route_id']\n",
    "    outdict['start_time'] = feedentity['vehicle']['trip']['start_time']\n",
    "    outdict['start_date'] = feedentity['vehicle']['trip']['start_date']\n",
    "    outdict['position_lat'] = feedentity['vehicle']['position']['latitude']\n",
    "    outdict['position_lon'] = feedentity['vehicle']['position']['longitude']\n",
    "    outdict['bearing'] = feedentity['vehicle']['position']['bearing']\n",
    "    outdict['speed'] = feedentity['vehicle']['position']['speed']\n",
    "    outdict['current_status'] = feedentity['vehicle']['current_status']\n",
    "    outdict['stop_id'] = feedentity['vehicle']['stop_id']\n",
    "    outdict['timestamp'] = feedentity['vehicle']['timestamp']\n",
    "    outdict['vehicle_id'] = feedentity['vehicle']['vehicle']['id']\n",
    "    outl.append(outdict)\n",
    "for key in outl[0].keys():\n",
    "    vehiclepos_df[key] = [d[key] for d in outl]"
   ]
  },
  {
   "cell_type": "code",
   "execution_count": 113,
   "metadata": {},
   "outputs": [
    {
     "data": {
      "text/html": [
       "<div>\n",
       "<style scoped>\n",
       "    .dataframe tbody tr th:only-of-type {\n",
       "        vertical-align: middle;\n",
       "    }\n",
       "\n",
       "    .dataframe tbody tr th {\n",
       "        vertical-align: top;\n",
       "    }\n",
       "\n",
       "    .dataframe thead th {\n",
       "        text-align: right;\n",
       "    }\n",
       "</style>\n",
       "<table border=\"1\" class=\"dataframe\">\n",
       "  <thead>\n",
       "    <tr style=\"text-align: right;\">\n",
       "      <th></th>\n",
       "      <th>update_timestamp</th>\n",
       "      <th>trip_id</th>\n",
       "      <th>route_id</th>\n",
       "      <th>start_time</th>\n",
       "      <th>start_date</th>\n",
       "      <th>position_lat</th>\n",
       "      <th>position_lon</th>\n",
       "      <th>bearing</th>\n",
       "      <th>speed</th>\n",
       "      <th>current_status</th>\n",
       "      <th>stop_id</th>\n",
       "      <th>timestamp</th>\n",
       "      <th>vehicle_id</th>\n",
       "    </tr>\n",
       "  </thead>\n",
       "  <tbody>\n",
       "    <tr>\n",
       "      <th>0</th>\n",
       "      <td>1564421636</td>\n",
       "      <td>2854250</td>\n",
       "      <td>63</td>\n",
       "      <td>13:15:00</td>\n",
       "      <td>20190729</td>\n",
       "      <td>41.506577</td>\n",
       "      <td>-71.303790</td>\n",
       "      <td>285.0</td>\n",
       "      <td>0.00000</td>\n",
       "      <td>2</td>\n",
       "      <td>1915</td>\n",
       "      <td>1564421560</td>\n",
       "      <td>549</td>\n",
       "    </tr>\n",
       "    <tr>\n",
       "      <th>1</th>\n",
       "      <td>1564421636</td>\n",
       "      <td>2854278</td>\n",
       "      <td>63</td>\n",
       "      <td>12:52:00</td>\n",
       "      <td>20190729</td>\n",
       "      <td>41.491333</td>\n",
       "      <td>-71.317460</td>\n",
       "      <td>30.0</td>\n",
       "      <td>0.00000</td>\n",
       "      <td>1</td>\n",
       "      <td>1382</td>\n",
       "      <td>1564421601</td>\n",
       "      <td>1001</td>\n",
       "    </tr>\n",
       "    <tr>\n",
       "      <th>2</th>\n",
       "      <td>1564421636</td>\n",
       "      <td>2854279</td>\n",
       "      <td>63</td>\n",
       "      <td>13:22:00</td>\n",
       "      <td>20190729</td>\n",
       "      <td>41.518867</td>\n",
       "      <td>-71.309940</td>\n",
       "      <td>360.0</td>\n",
       "      <td>5.81152</td>\n",
       "      <td>2</td>\n",
       "      <td>2025</td>\n",
       "      <td>1564421613</td>\n",
       "      <td>1002</td>\n",
       "    </tr>\n",
       "    <tr>\n",
       "      <th>3</th>\n",
       "      <td>1564421636</td>\n",
       "      <td>2854173</td>\n",
       "      <td>14</td>\n",
       "      <td>12:25:00</td>\n",
       "      <td>20190729</td>\n",
       "      <td>41.774944</td>\n",
       "      <td>-71.426765</td>\n",
       "      <td>15.0</td>\n",
       "      <td>29.95168</td>\n",
       "      <td>2</td>\n",
       "      <td>72170</td>\n",
       "      <td>1564421608</td>\n",
       "      <td>922</td>\n",
       "    </tr>\n",
       "    <tr>\n",
       "      <th>4</th>\n",
       "      <td>1564421636</td>\n",
       "      <td>2854186</td>\n",
       "      <td>14</td>\n",
       "      <td>12:50:00</td>\n",
       "      <td>20190729</td>\n",
       "      <td>41.629080</td>\n",
       "      <td>-71.462840</td>\n",
       "      <td>135.0</td>\n",
       "      <td>16.98752</td>\n",
       "      <td>2</td>\n",
       "      <td>3375</td>\n",
       "      <td>1564421613</td>\n",
       "      <td>548</td>\n",
       "    </tr>\n",
       "  </tbody>\n",
       "</table>\n",
       "</div>"
      ],
      "text/plain": [
       "   update_timestamp  trip_id route_id start_time start_date  position_lat  \\\n",
       "0        1564421636  2854250       63   13:15:00   20190729     41.506577   \n",
       "1        1564421636  2854278       63   12:52:00   20190729     41.491333   \n",
       "2        1564421636  2854279       63   13:22:00   20190729     41.518867   \n",
       "3        1564421636  2854173       14   12:25:00   20190729     41.774944   \n",
       "4        1564421636  2854186       14   12:50:00   20190729     41.629080   \n",
       "\n",
       "   position_lon  bearing     speed  current_status stop_id   timestamp  \\\n",
       "0    -71.303790    285.0   0.00000               2    1915  1564421560   \n",
       "1    -71.317460     30.0   0.00000               1    1382  1564421601   \n",
       "2    -71.309940    360.0   5.81152               2    2025  1564421613   \n",
       "3    -71.426765     15.0  29.95168               2   72170  1564421608   \n",
       "4    -71.462840    135.0  16.98752               2    3375  1564421613   \n",
       "\n",
       "  vehicle_id  \n",
       "0        549  \n",
       "1       1001  \n",
       "2       1002  \n",
       "3        922  \n",
       "4        548  "
      ]
     },
     "execution_count": 113,
     "metadata": {},
     "output_type": "execute_result"
    }
   ],
   "source": [
    "vehiclepos_df.head()"
   ]
  },
  {
   "cell_type": "markdown",
   "metadata": {},
   "source": [
    "### Insert Data"
   ]
  },
  {
   "cell_type": "code",
   "execution_count": 138,
   "metadata": {},
   "outputs": [],
   "source": [
    "INSERT_STATEMENT_VP = \"\"\"\n",
    "INSERT INTO vehicle_positions_temp (\n",
    "    update_timestamp, trip_id, route_id, start_time, start_date, position_lat, position_lon, bearing, speed, current_status, stop_id, timestamp, vehicle_id)\n",
    "    VALUES (?, ?, ?, ?, ?, ?, ?, ?, ?, ?, ?, ?, ?);\n",
    "\"\"\""
   ]
  },
  {
   "cell_type": "code",
   "execution_count": 9,
   "metadata": {},
   "outputs": [],
   "source": []
  },
  {
   "cell_type": "code",
   "execution_count": 139,
   "metadata": {},
   "outputs": [],
   "source": [
    "INSERT_STATEMENT = \"\"\"\n",
    "INSERT INTO trip_updates_temp (\n",
    "    update_timestamp, trip_id, stop_id, delay, timestamp)\n",
    "    VALUES (?, ?, ?, ?, ?);\n",
    "\"\"\""
   ]
  },
  {
   "cell_type": "code",
   "execution_count": 140,
   "metadata": {},
   "outputs": [],
   "source": [
    "conn = sqlite3.connect('RIPTA.db')"
   ]
  },
  {
   "cell_type": "code",
   "execution_count": 141,
   "metadata": {},
   "outputs": [],
   "source": [
    "values = tripupdates_df[['update_timestamp', 'trip_id', 'stop_id', 'delay','timestamp']].values"
   ]
  },
  {
   "cell_type": "code",
   "execution_count": 142,
   "metadata": {},
   "outputs": [
    {
     "data": {
      "text/plain": [
       "<sqlite3.Cursor at 0x7fac7bf943b0>"
      ]
     },
     "execution_count": 142,
     "metadata": {},
     "output_type": "execute_result"
    }
   ],
   "source": [
    "conn.executemany(INSERT_STATEMENT,values)"
   ]
  },
  {
   "cell_type": "code",
   "execution_count": 143,
   "metadata": {},
   "outputs": [],
   "source": [
    "values_vp = vehiclepos_df[['update_timestamp', 'trip_id', 'route_id','start_time','start_date','position_lat',\n",
    "                           'position_lon','bearing','speed','current_status','stop_id','timestamp','vehicle_id']].values"
   ]
  },
  {
   "cell_type": "code",
   "execution_count": 144,
   "metadata": {},
   "outputs": [
    {
     "data": {
      "text/plain": [
       "<sqlite3.Cursor at 0x7fac5189bdc0>"
      ]
     },
     "execution_count": 144,
     "metadata": {},
     "output_type": "execute_result"
    }
   ],
   "source": [
    "conn.executemany(INSERT_STATEMENT_VP,values_vp)"
   ]
  },
  {
   "cell_type": "code",
   "execution_count": 145,
   "metadata": {},
   "outputs": [],
   "source": [
    "conn.commit()"
   ]
  },
  {
   "cell_type": "code",
   "execution_count": 146,
   "metadata": {},
   "outputs": [],
   "source": [
    "conn.close()"
   ]
  },
  {
   "cell_type": "markdown",
   "metadata": {},
   "source": [
    "### Test for dupes"
   ]
  },
  {
   "cell_type": "code",
   "execution_count": 147,
   "metadata": {},
   "outputs": [],
   "source": [
    "INSERT_STATEMENT = \"\"\"\n",
    "INSERT INTO trip_updates(update_timestamp, trip_id, stop_id, delay, timestamp)\n",
    "SELECT update_timestamp, trip_id, stop_id, delay, timestamp FROM trip_updates_temp tut\n",
    "WHERE \n",
    "NOT EXISTS (SELECT 1 FROM trip_updates tu\n",
    "    WHERE tut.timestamp = tu.timestamp AND tut.trip_id = tu.trip_id AND tut.stop_id = tu.stop_id)\n",
    "\"\"\""
   ]
  },
  {
   "cell_type": "code",
   "execution_count": 148,
   "metadata": {},
   "outputs": [],
   "source": [
    "INSERT_STATEMENT_VP = \"\"\"\n",
    "INSERT INTO vehicle_positions(update_timestamp, trip_id, route_id, trip_start_time, trip_start_date, position_lat, position_lon, bearing, speed, current_status, stop_id, timestamp, vehicle_id)\n",
    "SELECT update_timestamp, trip_id, route_id, start_time, start_date, position_lat, position_lon, bearing, speed, current_status, stop_id, timestamp, vehicle_id FROM vehicle_positions_temp vpt\n",
    "WHERE \n",
    "NOT EXISTS (SELECT 1 FROM vehicle_positions vp\n",
    "    WHERE vpt.timestamp = vp.timestamp AND vpt.position_lat = vp.position_lat AND vpt.position_lon = vp.position_lon)\n",
    "\"\"\""
   ]
  },
  {
   "cell_type": "code",
   "execution_count": 149,
   "metadata": {},
   "outputs": [],
   "source": [
    "conn = sqlite3.connect('RIPTA.db')"
   ]
  },
  {
   "cell_type": "code",
   "execution_count": 150,
   "metadata": {},
   "outputs": [
    {
     "data": {
      "text/plain": [
       "<sqlite3.Cursor at 0x7fac7bf94260>"
      ]
     },
     "execution_count": 150,
     "metadata": {},
     "output_type": "execute_result"
    }
   ],
   "source": [
    "conn.execute(INSERT_STATEMENT)"
   ]
  },
  {
   "cell_type": "code",
   "execution_count": 151,
   "metadata": {},
   "outputs": [
    {
     "data": {
      "text/plain": [
       "<sqlite3.Cursor at 0x7fac7bf94420>"
      ]
     },
     "execution_count": 151,
     "metadata": {},
     "output_type": "execute_result"
    }
   ],
   "source": [
    "conn.execute(INSERT_STATEMENT_VP)"
   ]
  },
  {
   "cell_type": "code",
   "execution_count": 152,
   "metadata": {},
   "outputs": [],
   "source": [
    "conn.commit()"
   ]
  },
  {
   "cell_type": "code",
   "execution_count": 153,
   "metadata": {},
   "outputs": [],
   "source": [
    "conn.close()"
   ]
  },
  {
   "cell_type": "markdown",
   "metadata": {},
   "source": [
    "### Final Test"
   ]
  },
  {
   "cell_type": "code",
   "execution_count": 3,
   "metadata": {},
   "outputs": [],
   "source": [
    "conn = sqlite3.connect('RIPTA.db')"
   ]
  },
  {
   "cell_type": "code",
   "execution_count": 4,
   "metadata": {},
   "outputs": [],
   "source": [
    "cursor = conn.cursor()"
   ]
  },
  {
   "cell_type": "code",
   "execution_count": 5,
   "metadata": {},
   "outputs": [
    {
     "data": {
      "text/plain": [
       "<sqlite3.Cursor at 0x7fd5a911f180>"
      ]
     },
     "execution_count": 5,
     "metadata": {},
     "output_type": "execute_result"
    }
   ],
   "source": [
    "cursor.execute('SELECT * FROM vehicle_positions LIMIT 5;')"
   ]
  },
  {
   "cell_type": "code",
   "execution_count": 6,
   "metadata": {},
   "outputs": [
    {
     "data": {
      "text/plain": [
       "[(1,\n",
       "  1564775906,\n",
       "  2854283,\n",
       "  63,\n",
       "  '15:22:00',\n",
       "  20190802,\n",
       "  41.49817,\n",
       "  -71.30745,\n",
       "  195,\n",
       "  8.49376,\n",
       "  2,\n",
       "  1480,\n",
       "  1564775822,\n",
       "  1005),\n",
       " (2,\n",
       "  1564775906,\n",
       "  2854254,\n",
       "  63,\n",
       "  '15:15:00',\n",
       "  20190802,\n",
       "  41.52629,\n",
       "  -71.2970047,\n",
       "  15,\n",
       "  10.28192,\n",
       "  2,\n",
       "  2415,\n",
       "  1564775864,\n",
       "  1002),\n",
       " (3,\n",
       "  1564775906,\n",
       "  2854255,\n",
       "  63,\n",
       "  '15:45:00',\n",
       "  20190802,\n",
       "  41.514,\n",
       "  -71.30985,\n",
       "  345,\n",
       "  9.38784,\n",
       "  2,\n",
       "  56765,\n",
       "  1564775870,\n",
       "  543),\n",
       " (4,\n",
       "  1564775906,\n",
       "  2854178,\n",
       "  14,\n",
       "  '15:37:00',\n",
       "  20190802,\n",
       "  41.4935646,\n",
       "  -71.43794,\n",
       "  360,\n",
       "  19.66976,\n",
       "  2,\n",
       "  1875,\n",
       "  1564775851,\n",
       "  547),\n",
       " (5,\n",
       "  1564775906,\n",
       "  2854170,\n",
       "  14,\n",
       "  '14:29:00',\n",
       "  20190802,\n",
       "  41.7626343,\n",
       "  -71.4313354,\n",
       "  15,\n",
       "  9.83488,\n",
       "  2,\n",
       "  72170,\n",
       "  1564775870,\n",
       "  538)]"
      ]
     },
     "execution_count": 6,
     "metadata": {},
     "output_type": "execute_result"
    }
   ],
   "source": [
    "cursor.fetchall()"
   ]
  },
  {
   "cell_type": "code",
   "execution_count": 13,
   "metadata": {},
   "outputs": [],
   "source": [
    "conn.close()"
   ]
  },
  {
   "cell_type": "code",
   "execution_count": null,
   "metadata": {},
   "outputs": [],
   "source": []
  }
 ],
 "metadata": {
  "kernelspec": {
   "display_name": "Python 3",
   "language": "python",
   "name": "python3"
  },
  "language_info": {
   "codemirror_mode": {
    "name": "ipython",
    "version": 3
   },
   "file_extension": ".py",
   "mimetype": "text/x-python",
   "name": "python",
   "nbconvert_exporter": "python",
   "pygments_lexer": "ipython3",
   "version": "3.6.8"
  }
 },
 "nbformat": 4,
 "nbformat_minor": 4
}
